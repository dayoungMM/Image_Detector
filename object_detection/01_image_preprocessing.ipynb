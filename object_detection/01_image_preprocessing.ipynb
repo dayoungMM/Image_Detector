{
 "cells": [
  {
   "cell_type": "markdown",
   "metadata": {},
   "source": [
    "# 이미지 전처리 때 시도해볼만한 코드\n",
    "- cv2.Canny 를 이용하여 경계선만 추출\n",
    "- cv2.HoughLinesP를 이용하여 직선 선만 추출. 고기를 거는 막대, 선을 detect 할 때 사용할 수 있음"
   ]
  },
  {
   "cell_type": "code",
   "execution_count": 14,
   "metadata": {},
   "outputs": [
    {
     "name": "stdout",
     "output_type": "stream",
     "text": [
      "(3024, 4032, 3)\n"
     ]
    }
   ],
   "source": [
    "import cv2\n",
    "import numpy as np\n",
    "import matplotlib.pyplot as plt\n",
    "\n",
    "img=cv2.imread('./images/target1.JPG', cv2.IMREAD_COLOR )\n",
    "# 컬러 ; cv2.IMREAD_COLOR\n",
    "# 흑백 : cv2.IMREAD_GRAYSCALE\n",
    "print(np.array(img).shape)\n",
    "img=cv2.resize(img, None, fx=0.1, fy=0.1, interpolation=cv2.INTER_AREA)\n",
    "\n",
    "# cv2.imshow(\"target\", img)\n",
    "# cv2.waitKey(0)\n",
    "# cv2.destroyAllWindows()"
   ]
  },
  {
   "cell_type": "code",
   "execution_count": 1,
   "metadata": {},
   "outputs": [],
   "source": [
    "# frame = cv2.GaussianBlur(img, (5, 5), 0)\n",
    "# cv2.imshow(\"target\", frame)\n",
    "# cv2.waitKey(0)\n",
    "# cv2.destroyAllWindows()"
   ]
  },
  {
   "cell_type": "code",
   "execution_count": 6,
   "metadata": {},
   "outputs": [],
   "source": [
    "hsv = cv2.cvtColor(frame, cv2.COLOR_BGR2HSV)\n",
    "low_yellow = np.array([18, 94, 140])\n",
    "up_yellow = np.array([48, 255, 255])\n",
    "mask = cv2.inRange(hsv, low_yellow, up_yellow)\n",
    "edges = cv2.Canny(mask, 75, 150)\n",
    "lines = cv2.HoughLinesP(edges, 1, np.pi/180, 50, maxLineGap=50)\n",
    "if lines is not None:\n",
    "        for line in lines:\n",
    "            x1, y1, x2, y2 = line[0]\n",
    "            cv2.line(frame, (x1, y1), (x2, y2), (0, 255, 0), 5)\n",
    "cv2.imshow(\"frame\", frame)\n",
    "cv2.imshow(\"edges\", edges)\n",
    "cv2.waitKey(0)\n",
    "cv2.destroyAllWindows()"
   ]
  },
  {
   "cell_type": "code",
   "execution_count": 19,
   "metadata": {},
   "outputs": [
    {
     "name": "stdout",
     "output_type": "stream",
     "text": [
      "(3024, 4032, 3)\n"
     ]
    }
   ],
   "source": [
    "img=cv2.imread('./images/target1.JPG', cv2.IMREAD_COLOR )\n",
    "# 컬러 ; cv2.IMREAD_COLOR\n",
    "# 흑백 : cv2.IMREAD_GRAYSCALE\n",
    "print(np.array(img).shape)\n",
    "img=cv2.resize(img, None, fx=0.1, fy=0.1, interpolation=cv2.INTER_AREA)\n",
    "\n",
    "gray = cv2.cvtColor(img, cv2.COLOR_BGR2GRAY)\n",
    "edges = cv2.Canny(gray, 75, 150)\n",
    "lines = cv2.HoughLinesP(edges, 1, np.pi/180, 90, maxLineGap=250)\n",
    "for line in lines:\n",
    "   x1, y1, x2, y2 = line[0]\n",
    "   cv2.line(img, (x1, y1), (x2, y2), (0, 0, 128), 1)\n",
    "cv2.imshow(\"linesEdges\", edges)\n",
    "cv2.imshow(\"linesDetected\", img)\n",
    "cv2.waitKey(0)\n",
    "cv2.destroyAllWindows()"
   ]
  },
  {
   "cell_type": "code",
   "execution_count": null,
   "metadata": {},
   "outputs": [],
   "source": []
  }
 ],
 "metadata": {
  "kernelspec": {
   "display_name": "Python 3",
   "language": "python",
   "name": "python3"
  },
  "language_info": {
   "codemirror_mode": {
    "name": "ipython",
    "version": 3
   },
   "file_extension": ".py",
   "mimetype": "text/x-python",
   "name": "python",
   "nbconvert_exporter": "python",
   "pygments_lexer": "ipython3",
   "version": "3.7.6"
  }
 },
 "nbformat": 4,
 "nbformat_minor": 4
}
